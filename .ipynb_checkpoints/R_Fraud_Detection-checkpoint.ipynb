{
 "cells": [
  {
   "cell_type": "code",
   "execution_count": 20,
   "metadata": {
    "collapsed": false
   },
   "outputs": [
    {
     "name": "stderr",
     "output_type": "stream",
     "text": [
      "Loading required package: ROCR\n",
      "Warning message:\n",
      "In library(package, lib.loc = lib.loc, character.only = TRUE, logical.return = TRUE, : there is no package called ‘ROCR’"
     ]
    }
   ],
   "source": [
    "#Libraries needed\n",
    "require(dplyr)\n",
    "require(randomForest)\n",
    "require(ROCR)"
   ]
  },
  {
   "cell_type": "code",
   "execution_count": 21,
   "metadata": {
    "collapsed": false
   },
   "outputs": [
    {
     "data": {
      "text/html": [
       "'/Users/yuchengtsai/Documents/Fraud/Fraud'"
      ],
      "text/latex": [
       "'/Users/yuchengtsai/Documents/Fraud/Fraud'"
      ],
      "text/markdown": [
       "'/Users/yuchengtsai/Documents/Fraud/Fraud'"
      ],
      "text/plain": [
       "[1] \"/Users/yuchengtsai/Documents/Fraud/Fraud\""
      ]
     },
     "metadata": {},
     "output_type": "display_data"
    }
   ],
   "source": [
    "getwd()"
   ]
  },
  {
   "cell_type": "code",
   "execution_count": 22,
   "metadata": {
    "collapsed": true
   },
   "outputs": [],
   "source": [
    "#read data\n",
    "data = read.csv(\"/Users/yuchengtsai/Documents/Fraud/Fraud_Data.csv\")"
   ]
  },
  {
   "cell_type": "code",
   "execution_count": 23,
   "metadata": {
    "collapsed": false
   },
   "outputs": [],
   "source": [
    "ip_address= read.csv('/Users/yuchengtsai/Documents/Fraud/IpAddress_to_Country.csv')"
   ]
  },
  {
   "cell_type": "code",
   "execution_count": 24,
   "metadata": {
    "collapsed": false
   },
   "outputs": [
    {
     "data": {
      "text/html": [
       "TRUE"
      ],
      "text/latex": [
       "TRUE"
      ],
      "text/markdown": [
       "TRUE"
      ],
      "text/plain": [
       "[1] TRUE"
      ]
     },
     "metadata": {},
     "output_type": "display_data"
    }
   ],
   "source": [
    "#are there duplicates?\n",
    "nrow(data)==length(unique(data$user_id))"
   ]
  },
  {
   "cell_type": "code",
   "execution_count": 25,
   "metadata": {
    "collapsed": false
   },
   "outputs": [
    {
     "ename": "ERROR",
     "evalue": "Error in eval(expr, envir, enclos): object 'l' not found\n",
     "output_type": "error",
     "traceback": "Error in eval(expr, envir, enclos): object 'l' not found\nTraceback:\n"
    }
   ],
   "source": [
    "#Let's add the country to the original data set by using the ip address\n",
    "data_country = rep(NA,nrow(data))\n",
    "for (i in l:nrow(data)){\n",
    "    tmp=as.character(ip_addresses [data$ip_address[i] >= ip_addresses$lower_bound_ip_address \n",
    "    & data$ip_address[i] <= ip_addresses$upper_bound_ip_address,\"country\" ])\n",
    "    \n",
    "    if (length(tmp)==1) {data_country[i]=tmp}\n",
    "}\n",
    "\n",
    "\n",
    "# data$country = data_country\n",
    "# data[,\"signup_time\"] =as.POSIXct(data[,'singup_time'],tz='GMT')\n",
    "# data[,\"purchase_time\"] =as.POSIXct(data[,'purchase_time'],tz='GMT')\n",
    "\n",
    "# summary(as.factor(data$country))"
   ]
  },
  {
   "cell_type": "code",
   "execution_count": null,
   "metadata": {
    "collapsed": true
   },
   "outputs": [],
   "source": []
  }
 ],
 "metadata": {
  "kernelspec": {
   "display_name": "R",
   "language": "R",
   "name": "ir"
  },
  "language_info": {
   "codemirror_mode": "r",
   "file_extension": ".r",
   "mimetype": "text/x-r-source",
   "name": "R",
   "pygments_lexer": "r",
   "version": "3.3.1"
  }
 },
 "nbformat": 4,
 "nbformat_minor": 0
}
